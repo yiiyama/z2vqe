{
 "cells": [
  {
   "cell_type": "code",
   "execution_count": 1,
   "id": "b8f4f502",
   "metadata": {},
   "outputs": [],
   "source": [
    "import numpy as np\n",
    "import scipy\n",
    "from qiskit.quantum_info import SparsePauliOp"
   ]
  },
  {
   "cell_type": "code",
   "execution_count": 2,
   "id": "91e148a3",
   "metadata": {},
   "outputs": [],
   "source": [
    "def hopping_hamiltonian(num_sites):\n",
    "    num_qubits = 2 * num_sites\n",
    "    paulis = []\n",
    "    for isite in range(num_sites - 1):\n",
    "        iqubit = 2 * isite\n",
    "        paulis.append('I' * iqubit + 'XZX' + 'I' * (num_qubits - iqubit - 3))\n",
    "        paulis.append('I' * iqubit + 'YZY' + 'I' * (num_qubits - iqubit - 3))\n",
    "    paulis.append('X' + 'I' * (num_qubits - 3) + 'XZ')\n",
    "    paulis.append('Y' + 'I' * (num_qubits - 3) + 'YZ')\n",
    "    return SparsePauliOp(paulis)"
   ]
  },
  {
   "cell_type": "code",
   "execution_count": 7,
   "id": "c33447b1",
   "metadata": {},
   "outputs": [
    {
     "name": "stdout",
     "output_type": "stream",
     "text": [
      "True\n",
      "True\n",
      "True\n",
      "True\n"
     ]
    }
   ],
   "source": [
    "for num_sites in range(2, 10, 2):\n",
    "    h = hopping_hamiltonian(num_sites).to_matrix(sparse=True)\n",
    "    eigvals_low = scipy.sparse.linalg.eigsh(h, k=2 ** num_sites, which='SA', return_eigenvectors=False)\n",
    "    eigvals_high = scipy.sparse.linalg.eigsh(h, k=2 ** num_sites, which='LA', return_eigenvectors=False)\n",
    "    print(np.allclose(eigvals_low, -eigvals_high))"
   ]
  },
  {
   "cell_type": "code",
   "execution_count": null,
   "id": "819e043c",
   "metadata": {},
   "outputs": [],
   "source": []
  }
 ],
 "metadata": {
  "kernelspec": {
   "display_name": "Python 3 (ipykernel)",
   "language": "python",
   "name": "python3"
  }
 },
 "nbformat": 4,
 "nbformat_minor": 5
}

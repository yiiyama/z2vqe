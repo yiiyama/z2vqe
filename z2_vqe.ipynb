{
 "cells": [
  {
   "cell_type": "code",
   "execution_count": null,
   "id": "f4a1a5f9",
   "metadata": {},
   "outputs": [],
   "source": [
    "import sys\n",
    "import os\n",
    "sys.path.append('z2vqe/src')\n",
    "from dataclasses import dataclass\n",
    "import numpy as np\n",
    "import h5py\n",
    "import jax\n",
    "jax.config.update('jax_enable_x64', True)\n",
    "from z2_lgt import calculate_num_params, z2_ansatz_layer, create_hamiltonian, initial_state\n",
    "from z2_vqe import make_cost_fn, vqe_jaxopt"
   ]
  },
  {
   "cell_type": "code",
   "execution_count": null,
   "id": "bb56f7c8",
   "metadata": {},
   "outputs": [],
   "source": [
    "@dataclass\n",
    "class Options:\n",
    "    sites: int\n",
    "    layers: int\n",
    "    maxiter: int\n",
    "    instances: int\n",
    "    gpus: list[str | int]\n",
    "    out: str\n",
    "\n",
    "options = Options(\n",
    "    sites=2,\n",
    "    layers=1,\n",
    "    maxiter=2000,\n",
    "    instances=4,\n",
    "    gpus=[f'{i}' for i in range(9, 10)],\n",
    "    out='vqe_2000iter.h5'\n",
    ")"
   ]
  },
  {
   "cell_type": "code",
   "execution_count": null,
   "id": "b067a51e",
   "metadata": {},
   "outputs": [],
   "source": [
    "os.environ['CUDA_VISIBLE_DEVICES'] = ','.join(map(str, options.gpus))\n",
    "num_devices = len(jax.devices())\n",
    "if options.instances % num_devices != 0:\n",
    "    raise ValueError(f'Number of instances {options.instances} must be a multiple of the number'\n",
    "                        f' of GPUs {num_devices}')"
   ]
  },
  {
   "cell_type": "code",
   "execution_count": null,
   "id": "3c6a172b",
   "metadata": {},
   "outputs": [],
   "source": [
    "j_hopping = 1.  # coupling constant J\n",
    "f_gauge = 0.5  # coupling constant f\n",
    "mass = 2.  # value of mass\n",
    "\n",
    "trans_inv = True\n",
    "overall_coeff = 10\n",
    "boundary_cond = 'closed'\n",
    "reference_values = {}\n",
    "\n",
    "init_state, _ = initial_state(options.sites, boundary_cond)\n",
    "ansatz_layer = z2_ansatz_layer(options.sites, boundary_cond)\n",
    "hamiltonian = create_hamiltonian(options.sites, j_hopping, f_gauge, mass, overall_coeff,\n",
    "                                    boundary_cond, overall_coeff_cond=False)\n",
    "\n",
    "cost_fn = jax.jit(make_cost_fn(init_state, ansatz_layer, options.layers, hamiltonian))\n",
    "\n",
    "num_parameters = calculate_num_params(options.sites, options.layers, trans_inv)\n",
    "instances_per_device = max(1, options.instances // num_devices)\n",
    "x0 = 2 * np.pi * np.random.random((num_devices, instances_per_device, num_parameters))"
   ]
  },
  {
   "cell_type": "code",
   "execution_count": null,
   "id": "bdaeaebd",
   "metadata": {},
   "outputs": [],
   "source": [
    "energies = vqe_jaxopt(cost_fn, x0, options.maxiter)\n",
    "energies = energies.reshape(-1, num_devices * instances_per_device)"
   ]
  },
  {
   "cell_type": "code",
   "execution_count": null,
   "id": "778625b9",
   "metadata": {},
   "outputs": [],
   "source": [
    "if not options.out:\n",
    "    options.out = (f'vqe_{options.sites}sites_{options.layers}layers_'\n",
    "                    f'{options.maxiter}iter_jaxopt.h5')\n",
    "\n",
    "with h5py.File(options.out, 'a') as out:\n",
    "    group = out.create_group(f'vqe_{len(out.keys())}')\n",
    "    group.create_dataset('num_sites', data=options.sites)\n",
    "    group.create_dataset('num_layers', data=options.layers)\n",
    "    group.create_dataset('j_hopping', data=j_hopping)\n",
    "    group.create_dataset('f_gauge', data=f_gauge)\n",
    "    group.create_dataset('mass', data=mass)\n",
    "    group.create_dataset('maxiter', data=options.maxiter)\n",
    "    group.create_dataset('energies', data=energies)\n"
   ]
  }
 ],
 "metadata": {
  "kernelspec": {
   "display_name": "Python 3 (ipykernel)",
   "language": "python",
   "name": "python3"
  },
  "language_info": {
   "codemirror_mode": {
    "name": "ipython",
    "version": 3
   },
   "file_extension": ".py",
   "mimetype": "text/x-python",
   "name": "python",
   "nbconvert_exporter": "python",
   "pygments_lexer": "ipython3",
   "version": "3.10.12"
  }
 },
 "nbformat": 4,
 "nbformat_minor": 5
}

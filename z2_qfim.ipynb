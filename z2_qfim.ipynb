{
 "cells": [
  {
   "cell_type": "code",
   "execution_count": null,
   "id": "5c557201",
   "metadata": {},
   "outputs": [],
   "source": [
    "import sys\n",
    "import os\n",
    "sys.path.append('z2vqe/src')\n",
    "from dataclasses import dataclass\n",
    "import numpy as np\n",
    "import h5py\n",
    "import jax\n",
    "jax.config.update('jax_enable_x64', True)\n",
    "from z2_lgt import calculate_num_params, z2_ansatz_layer, initial_state\n",
    "from z2_vqe import make_qfim_fn"
   ]
  },
  {
   "cell_type": "code",
   "execution_count": null,
   "id": "7d56ae0a",
   "metadata": {},
   "outputs": [],
   "source": [
    "@dataclass\n",
    "class Options:\n",
    "    sites: int | list[int]\n",
    "    layers: int | list[int]\n",
    "    points: int\n",
    "    gpus: list[str | int]\n",
    "    out: str\n",
    "\n",
    "options = Options(\n",
    "    sites=list(range(2, 10, 2)),\n",
    "    layers=list(range(1, 27)),\n",
    "    points=100,\n",
    "    gpus=[1],\n",
    "    out='z2_qfim.h5'\n",
    ")\n",
    "\n",
    "if isinstance(options.sites, int):\n",
    "    options.sites = [options.sites]\n",
    "if isinstance(options.layers, int):\n",
    "    options.layers = [options.layers]"
   ]
  },
  {
   "cell_type": "code",
   "execution_count": null,
   "id": "e208f807",
   "metadata": {},
   "outputs": [],
   "source": [
    "os.environ['CUDA_VISIBLE_DEVICES'] = ','.join(map(str, options.gpus))\n",
    "num_devices = len(jax.devices())\n",
    "if options.points % num_devices != 0:\n",
    "    raise ValueError(f'Number of instances {options.instances} must be a multiple of the number'\n",
    "                        f' of GPUs {num_devices}')"
   ]
  },
  {
   "cell_type": "code",
   "execution_count": null,
   "id": "207d7ed2",
   "metadata": {},
   "outputs": [],
   "source": [
    "trans_inv = True\n",
    "boundary_cond = 'closed'\n",
    "reference_values = {}\n",
    "\n",
    "points_per_device = max(1, options.points // num_devices)\n",
    "\n",
    "if not options.out:\n",
    "    options.out = 'qfim.h5'\n",
    "\n",
    "out = h5py.File(options.out, 'w')\n",
    "\n",
    "for num_sites in options.sites:\n",
    "    init_state, _ = initial_state(num_sites, boundary_cond)\n",
    "    ansatz_layer = z2_ansatz_layer(num_sites, boundary_cond)\n",
    "    mean_ranks = []\n",
    "    max_ranks = []\n",
    "    for num_layers in options.layers:\n",
    "        print(num_sites, 'sites', num_layers, 'layers')\n",
    "        qfim_fn = jax.pmap(jax.vmap(make_qfim_fn(init_state, ansatz_layer, num_layers)))\n",
    "        num_parameters = calculate_num_params(num_sites, num_layers, trans_inv)\n",
    "        params = 2 * np.pi * np.random.random((num_devices, points_per_device, num_parameters))\n",
    "        matrices = qfim_fn(params).reshape(-1, num_parameters, num_parameters)\n",
    "        ranks = np.linalg.matrix_rank(matrices, tol=1.e-12, hermitian=True)\n",
    "        group = out.create_group(f'qfim_{num_sites}sites_{num_layers}layers')\n",
    "        group.create_dataset('params', data=params.reshape(-1, num_parameters))\n",
    "        group.create_dataset('qfim', data=matrices)\n",
    "        group.create_dataset('rank', data=ranks)\n",
    "\n",
    "        mean_ranks.append(np.mean(ranks))\n",
    "        max_ranks.append(np.amax(ranks))\n",
    "        print('  rank mean', mean_ranks[-1])\n",
    "        print('  rank max', max_ranks[-1])\n",
    "\n",
    "        if (len(mean_ranks) > 4 and np.allclose(mean_ranks[-1], mean_ranks[-3:-1])\n",
    "                and np.allclose(max_ranks[-1], max_ranks[-3:-1])):\n",
    "            break\n",
    "\n",
    "out.close()"
   ]
  },
  {
   "cell_type": "code",
   "execution_count": null,
   "id": "0d68f83e",
   "metadata": {},
   "outputs": [],
   "source": []
  }
 ],
 "metadata": {
  "kernelspec": {
   "display_name": "Python 3 (ipykernel)",
   "language": "python",
   "name": "python3"
  },
  "language_info": {
   "codemirror_mode": {
    "name": "ipython",
    "version": 3
   },
   "file_extension": ".py",
   "mimetype": "text/x-python",
   "name": "python",
   "nbconvert_exporter": "python",
   "pygments_lexer": "ipython3",
   "version": "3.10.12"
  }
 },
 "nbformat": 4,
 "nbformat_minor": 5
}

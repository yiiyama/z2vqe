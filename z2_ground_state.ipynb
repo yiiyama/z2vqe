{
 "cells": [
  {
   "cell_type": "markdown",
   "id": "610206f9",
   "metadata": {},
   "source": [
    "# Calculation of ground state energies of the Z2 LGT Hamiltonian\n",
    "\n",
    "## Sign convention\n",
    "\n",
    "The $J$ and $f$ parameters of the Z2 LGT Hamiltonian can appear in both signs, but I confirmed numerically that all sign combinations lead to the same spectrum. Would be good to give an analytical explanation as to why.\n",
    "\n",
    "## Strategy\n",
    "\n",
    "Given a computational basis state $\\ket{k}$, $\\ket{\\tilde{k}} = \\otimes_{n=0}^{N_s-1} H_{2n+1} \\ket{k}$ is an eigenstate of the Gauss' law operators $G_n = -X_{2n-1} Z_{2n} X_{2n+1}$. The set $\\{\\ket{\\tilde{k}}\\}$ forms an orthonormal basis of the full Hilbert space and divides it into subspaces defined by Gauss' law and $U(1)$ eigenvalues. The Hamiltonian is block diagonal in this basis, i.e., its matrix element $\\bra{\\tilde{k}} H \\ket{\\tilde{l}}$ is nonzero only if $\\ket{\\tilde{k}}$ and $\\ket{\\tilde{l}}$ belong to the same symmetry sector. To identify the ground state energy reached by an ideal VQE run, we diagonalize the symmetry block that the initial state belongs to."
   ]
  },
  {
   "cell_type": "code",
   "execution_count": 1,
   "id": "bcf32cbb",
   "metadata": {},
   "outputs": [],
   "source": [
    "import sys\n",
    "import os\n",
    "sys.path.append('z2vqe/src')\n",
    "import numpy as np\n",
    "import scipy\n",
    "import jax\n",
    "import jax.numpy as jnp\n",
    "from qiskit.quantum_info import SparsePauliOp\n",
    "\n",
    "from z2_lgt import calculate_num_params, z2_ansatz_layer, create_hamiltonian, initial_state"
   ]
  },
  {
   "cell_type": "code",
   "execution_count": 2,
   "id": "802d9080",
   "metadata": {},
   "outputs": [],
   "source": [
    "num_sites = 8\n",
    "j_hopping = 1  # coupling constant J\n",
    "f_gauge = 1 / 2  # coupling constant f\n",
    "mass = 2  # value of mass\n",
    "\n",
    "hamiltonian = create_hamiltonian(num_sites, j_hopping, f_gauge, mass, 0., 'closed', False).to_matrix(sparse=True)\n",
    "hamiltonian = scipy.sparse.csr_array(hamiltonian)\n",
    "hamiltonian.data = hamiltonian.data.real"
   ]
  },
  {
   "cell_type": "code",
   "execution_count": 3,
   "id": "8d904dcb",
   "metadata": {},
   "outputs": [],
   "source": [
    "def get_symmetry_sector(state):\n",
    "    num_qubits = np.log2(state.shape[0]).astype(int)\n",
    "    num_sites = num_qubits // 2\n",
    "    state = state.reshape((2,) * (2 * num_sites))\n",
    "    hadamard = np.array([[1., 1.], [1., -1.]]) / np.sqrt(2.)\n",
    "    for isite in range(num_sites):\n",
    "        state = np.moveaxis(np.tensordot(hadamard, state, [1, isite * 2 + 1]), 0, isite * 2 + 1)\n",
    "\n",
    "    zeigvals = np.empty(num_qubits, dtype=int)\n",
    "    for iqubit in range(num_qubits):\n",
    "        moved = np.moveaxis(state, iqubit, 0)\n",
    "        if np.allclose(moved[0], 0.):\n",
    "            zeigvals[iqubit] = -1\n",
    "        elif np.allclose(moved[1], 0.):\n",
    "            zeigvals[iqubit] = 1\n",
    "        else:\n",
    "            raise ValueError('Not a Gauss law eigenstate')\n",
    "\n",
    "    gauss_sector = np.roll(zeigvals, -1)[::2] * zeigvals[::2] * np.roll(zeigvals, 1)[::2]\n",
    "    u1_sector = np.sum(zeigvals[::2]) / num_sites\n",
    "    return gauss_sector, u1_sector"
   ]
  },
  {
   "cell_type": "code",
   "execution_count": 4,
   "id": "3248d7f3",
   "metadata": {},
   "outputs": [],
   "source": [
    "num_sites = 8\n",
    "num_qubits = 2 * num_sites\n",
    "init_state = np.zeros((2,) * num_qubits)\n",
    "init_state[(0,) * num_qubits] = 1.\n",
    "paulix = np.array([[0., 1.], [1., 0.]])\n",
    "hadamard = np.array([[1., 1.], [1., -1.]]) / np.sqrt(2.)\n",
    "for iq in range(0, num_qubits, 4):\n",
    "    init_state = np.moveaxis(np.tensordot(paulix, init_state, [1, iq]), 0, iq)\n",
    "for iq in range(1, num_qubits, 2):\n",
    "    init_state = np.moveaxis(np.tensordot(hadamard, init_state, [1, iq]), 0, iq)\n",
    "\n",
    "gauss_sector, u1_sector = get_symmetry_sector(init_state.reshape(-1))"
   ]
  },
  {
   "cell_type": "code",
   "execution_count": 5,
   "id": "8cbaf734",
   "metadata": {},
   "outputs": [],
   "source": [
    "state_zeigvals = 1 - 2 * ((np.arange(2 ** num_qubits)[:, None] >> np.arange(num_qubits)[None, ::-1]) % 2)\n",
    "state_gauss = np.roll(state_zeigvals, -1, axis=1)[:, ::2] * state_zeigvals[:, ::2] * np.roll(state_zeigvals, 1, axis=1)[:, ::2]\n",
    "state_u1 = np.sum(state_zeigvals[:, ::2], axis=1) / num_sites\n",
    "subspace = np.nonzero(np.all(np.equal(state_gauss, gauss_sector[None, :]), axis=1) & np.equal(state_u1, u1_sector))[0]"
   ]
  },
  {
   "cell_type": "code",
   "execution_count": 6,
   "id": "9b9008f7",
   "metadata": {},
   "outputs": [],
   "source": [
    "# One-hot vectors\n",
    "subbasis = np.zeros((2 ** num_qubits,) + subspace.shape)\n",
    "subbasis[subspace, np.arange(subspace.shape[0])] = 1.\n",
    "subbasis = subbasis.reshape((2,) * num_qubits + subspace.shape)\n",
    "for isite in range(num_sites):\n",
    "    subbasis = np.moveaxis(np.tensordot(hadamard, subbasis, [1, 2 * isite + 1]), 0, 2 * isite + 1)\n",
    "subbasis = scipy.sparse.csr_array(subbasis.reshape((2 ** num_qubits,) + subspace.shape))"
   ]
  },
  {
   "cell_type": "code",
   "execution_count": 7,
   "id": "562ea604",
   "metadata": {},
   "outputs": [],
   "source": [
    "block_hamiltonian = (subbasis.T @ (hamiltonian @ subbasis)).todense()\n",
    "block_hamiltonian = np.where(np.isclose(block_hamiltonian, 0.), 0., block_hamiltonian)"
   ]
  },
  {
   "cell_type": "code",
   "execution_count": 8,
   "id": "104b5af9",
   "metadata": {},
   "outputs": [],
   "source": [
    "evals, evecs = np.linalg.eigh(block_hamiltonian)"
   ]
  },
  {
   "cell_type": "code",
   "execution_count": 9,
   "id": "2838a4c8",
   "metadata": {},
   "outputs": [
    {
     "data": {
      "text/plain": [
       "array([-1.34459900e+01, -8.14786791e+00, -8.00750381e+00, -8.00750381e+00,\n",
       "       -7.72318362e+00, -7.72318362e+00, -7.52457967e+00, -7.52457967e+00,\n",
       "       -7.47080983e+00, -6.13660070e+00, -5.82640682e+00, -5.81925351e+00,\n",
       "       -5.81925351e+00, -5.81351144e+00, -5.81351144e+00, -5.80844009e+00,\n",
       "       -5.80844009e+00, -5.79576175e+00, -4.01779687e+00, -3.98553959e+00,\n",
       "       -3.98553959e+00, -3.98499413e+00, -3.98499413e+00, -3.97030985e+00,\n",
       "       -3.97030985e+00, -3.93759538e+00, -2.66572040e+00, -2.45614612e+00,\n",
       "       -2.45614612e+00, -2.45401451e+00, -2.37266276e+00, -2.37266276e+00,\n",
       "       -2.29048458e+00, -2.29048458e+00, -2.15602075e+00, -2.15602075e+00,\n",
       "       -2.09804465e+00, -2.06937554e+00, -2.06937554e+00, -2.00000000e+00,\n",
       "       -1.99064518e+00, -1.99064518e+00, -1.93789849e+00, -1.93271167e+00,\n",
       "       -1.87355975e+00, -1.87355975e+00, -1.70025080e+00, -1.70025080e+00,\n",
       "       -1.66012673e+00, -1.66012673e+00, -1.61947549e+00, -1.61947549e+00,\n",
       "       -1.53917425e+00, -1.49546835e+00, -4.53154272e-01, -4.20730529e-01,\n",
       "       -4.05495210e-01, -4.05495210e-01, -3.91294368e-01, -3.91294368e-01,\n",
       "       -3.17270038e-01, -3.17270038e-01, -2.68933842e-01, -2.68933842e-01,\n",
       "       -1.69779302e-01, -1.69779302e-01, -1.32343228e-01, -1.32343228e-01,\n",
       "       -3.76561453e-02, -9.07162067e-16, -1.66533454e-16,  3.26278965e-02,\n",
       "        1.20123063e-01,  1.20123063e-01,  1.42806563e-01,  1.42806563e-01,\n",
       "        1.91946925e-01,  1.91946925e-01,  3.90157885e-01,  3.90157885e-01,\n",
       "        4.01356525e-01,  4.01356525e-01,  4.07472429e-01,  4.25520109e-01,\n",
       "        4.25520109e-01,  4.54075359e-01,  1.24900396e+00,  1.43216510e+00,\n",
       "        1.43216510e+00,  1.53054715e+00,  1.53054715e+00,  1.80407204e+00,\n",
       "        1.80407204e+00,  1.90960850e+00,  1.96939911e+00,  1.99360783e+00,\n",
       "        1.99360783e+00,  2.00000000e+00,  2.08082650e+00,  2.18824817e+00,\n",
       "        2.18824817e+00,  2.45297859e+00,  2.45297859e+00,  2.62727492e+00,\n",
       "        2.62727492e+00,  2.90403933e+00,  3.28983912e+00,  3.44613025e+00,\n",
       "        3.44613025e+00,  3.61360299e+00,  3.70294571e+00,  3.70294571e+00,\n",
       "        3.81265889e+00,  3.81265889e+00,  3.90782216e+00,  3.90782216e+00,\n",
       "        4.00221983e+00,  4.00221983e+00,  4.01814231e+00,  4.21222317e+00,\n",
       "        4.21222317e+00,  4.36037522e+00,  5.18387701e+00,  5.38436416e+00,\n",
       "        5.38436416e+00,  5.64606012e+00,  5.73127177e+00,  5.73127177e+00,\n",
       "        5.89211423e+00,  5.89211423e+00,  5.99633293e+00,  5.99633293e+00,\n",
       "        6.16758308e+00,  6.16758308e+00,  6.24074831e+00,  6.55470835e+00,\n",
       "        6.55470835e+00,  6.83019301e+00,  9.80990175e+00,  9.81360965e+00])"
      ]
     },
     "execution_count": 9,
     "metadata": {},
     "output_type": "execute_result"
    }
   ],
   "source": [
    "evals"
   ]
  },
  {
   "cell_type": "code",
   "execution_count": null,
   "id": "37d5a173",
   "metadata": {},
   "outputs": [],
   "source": []
  }
 ],
 "metadata": {
  "kernelspec": {
   "display_name": "Python 3 (ipykernel)",
   "language": "python",
   "name": "python3"
  }
 },
 "nbformat": 4,
 "nbformat_minor": 5
}

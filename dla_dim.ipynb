{
 "cells": [
  {
   "cell_type": "markdown",
   "id": "20deafca",
   "metadata": {},
   "source": [
    "# Identification of block diagonalization of the 8-site Z2 LGT HVA generators"
   ]
  },
  {
   "cell_type": "code",
   "execution_count": 1,
   "id": "e13551d1",
   "metadata": {},
   "outputs": [],
   "source": [
    "import os\n",
    "import logging\n",
    "import numpy as np\n",
    "import jax\n",
    "import jax.numpy as jnp\n",
    "from fastdla import lie_closure\n",
    "from fastdla.generators.z2lgt_hva import *\n",
    "from fastdla.sparse_pauli_sum import SparsePauliSum\n",
    "from fastdla.generators.spin_chain import translation, translation_eigenspace\n",
    "from fastdla.linalg.eigenspace import get_eigenspace\n",
    "from fastdla.linalg.block_diagonalization import sbd_fast\n",
    "\n",
    "logging.basicConfig(level=logging.WARNING)\n",
    "logging.getLogger('fastdla').setLevel(logging.INFO)\n",
    "os.environ['CUDA_VISIBLE_DEVICES'] = '0'\n",
    "os.environ['XLA_PYTHON_CLIENT_MEM_FRACTION'] = '.99'\n",
    "jax.config.update('jax_enable_x64', True)"
   ]
  },
  {
   "cell_type": "code",
   "execution_count": 2,
   "id": "c3561e75",
   "metadata": {},
   "outputs": [],
   "source": [
    "def clean_array(arr):\n",
    "    result = np.where(np.isclose(arr.real, 0.), 0., arr.real).astype(arr.dtype)\n",
    "    if arr.dtype == np.complex128:\n",
    "        result += 1.j * np.where(np.isclose(arr.imag, 0.), 0., arr.imag)\n",
    "    return result\n",
    "\n",
    "def print_state(subspace):\n",
    "    num_qubits = np.log2(subspace.shape[0]).astype(int)\n",
    "    for col, vector in enumerate(subspace.T):\n",
    "        indices = np.nonzero(vector)[0]\n",
    "        bindices = (indices[:, None] >> np.arange(num_qubits)[None, ::-1]) % 2\n",
    "        bstrs = [''.join(f'{b}' for b in brow) for brow in bindices]\n",
    "        svec = ' + '.join(f'({coeff})|{bidx}>' for bidx, coeff in zip(bstrs, vector[indices]))\n",
    "        print(col, svec)"
   ]
  },
  {
   "cell_type": "code",
   "execution_count": 3,
   "id": "7c054527",
   "metadata": {},
   "outputs": [],
   "source": [
    "num_fermions = 4\n",
    "num_links = 2 * num_fermions\n",
    "coupling_j = 1.2\n",
    "mass = 0.5"
   ]
  },
  {
   "cell_type": "markdown",
   "id": "316831e8",
   "metadata": {},
   "source": [
    "## Reference: Full-shape Hamiltonian projected to the gauss sector"
   ]
  },
  {
   "cell_type": "code",
   "execution_count": 4,
   "id": "52a61123",
   "metadata": {},
   "outputs": [],
   "source": [
    "if False:\n",
    "    generators = z2lgt_hva_generators(num_fermions)\n",
    "    gauss_projector = z2lgt_gauss_projector([1, -1] * num_fermions)\n",
    "\n",
    "    # generators are normalized\n",
    "    h_gauge = generators[0] * np.sqrt(num_links)\n",
    "    h_mass = mass * np.sqrt(num_fermions) * (generators[1] - generators[2])\n",
    "    h_hop = 0.5 * coupling_j * np.sqrt(2 * num_fermions) * (generators[3] + generators[4])\n",
    "    hamiltonian = h_gauge + h_mass + h_hop\n",
    "    hproj = hamiltonian @ gauss_projector\n",
    "    evals_orig, evecs_orig = map(clean_array, jnp.linalg.eigh(hproj.to_matrix(npmod=jnp)))"
   ]
  },
  {
   "cell_type": "markdown",
   "id": "c3d0d713",
   "metadata": {},
   "source": [
    "## Gauge-fixed Hamiltonian and generator terms in the link DOF basis"
   ]
  },
  {
   "cell_type": "code",
   "execution_count": 5,
   "id": "ccb4681f",
   "metadata": {},
   "outputs": [],
   "source": [
    "paulis = []\n",
    "for ilink in range(num_links):\n",
    "    paulis.append('I' * ilink + 'Z' + 'I' * (num_links - ilink - 1))\n",
    "\n",
    "solved_gauge = SparsePauliSum(paulis, np.ones(num_links))\n",
    "\n",
    "paulis = []\n",
    "for ilink in range(num_links - 1):\n",
    "    paulis.append('I' * ilink + 'ZZ' + 'I' * (num_links - ilink - 2))\n",
    "paulis.append('Z' + 'I' * (num_links - 2) + 'Z')\n",
    "\n",
    "solved_mass = SparsePauliSum(paulis, mass * np.ones(num_links))\n",
    "\n",
    "paulis = ['XI' + 'I' * (num_links - 3) + 'I', 'XZ' + 'I' * (num_links - 3) + 'Z']\n",
    "for ilink in range(num_links - 2):\n",
    "    paulis.append('I' * ilink + 'IXI' + 'I' * (num_links - ilink - 3))\n",
    "    paulis.append('I' * ilink + 'ZXZ' + 'I' * (num_links - ilink - 3))\n",
    "paulis.append('I' + 'I' * (num_links - 3) + 'IX')\n",
    "paulis.append('Z' + 'I' * (num_links - 3) + 'ZX')\n",
    "\n",
    "solved_hop = SparsePauliSum(paulis, coupling_j * np.full(len(paulis), 0.5))\n",
    "\n",
    "if False:\n",
    "    hsolved = solved_gauge + solved_mass + solved_hop\n",
    "    solved_gauge_mat = solved_gauge.to_matrix(npmod=jnp)\n",
    "    solved_mass_mat = solved_mass.to_matrix(npmod=jnp)\n",
    "    solved_hop_mat = solved_hop.to_matrix(npmod=jnp)\n",
    "    hsolved_mat = hsolved.to_matrix(npmod=jnp)\n",
    "    evals_s, evecs_s = map(clean_array, jnp.linalg.eigh(hsolved_mat))\n",
    "\n",
    "    np.allclose(evals_s[evals_s != 0.], evals_orig[evals_orig != 0.])"
   ]
  },
  {
   "cell_type": "code",
   "execution_count": 6,
   "id": "4ec3a3f8",
   "metadata": {},
   "outputs": [],
   "source": [
    "solved_generators = SparsePauliSumArray([solved_gauge.normalize()])\n",
    "\n",
    "paulis = []\n",
    "for ilink in range(0, num_links - 1, 2):\n",
    "    paulis.append('I' * ilink + 'ZZ' + 'I' * (num_links - ilink - 2))\n",
    "\n",
    "solved_generators.append(SparsePauliSum(paulis, np.full(len(paulis), 1. / np.sqrt(len(paulis)))))\n",
    "\n",
    "paulis = []\n",
    "for ilink in range(1, num_links - 1, 2):\n",
    "    paulis.append('I' * ilink + 'ZZ' + 'I' * (num_links - ilink - 2))\n",
    "paulis.append('Z' + 'I' * (num_links - 2) + 'Z')\n",
    "\n",
    "solved_generators.append(SparsePauliSum(paulis, np.full(len(paulis), 1. / np.sqrt(len(paulis)))))\n",
    "\n",
    "paulis = ['XI' + 'I' * (num_links - 3) + 'I', 'XZ' + 'I' * (num_links - 3) + 'Z']\n",
    "for ilink in range(1, num_links - 2, 2):\n",
    "    paulis.append('I' * ilink + 'IXI' + 'I' * (num_links - ilink - 3))\n",
    "    paulis.append('I' * ilink + 'ZXZ' + 'I' * (num_links - ilink - 3))\n",
    "\n",
    "solved_generators.append(SparsePauliSum(paulis, np.full(len(paulis), 1. / np.sqrt(len(paulis)))))\n",
    "\n",
    "paulis = []\n",
    "for ilink in range(0, num_links - 2, 2):\n",
    "    paulis.append('I' * ilink + 'IXI' + 'I' * (num_links - ilink - 3))\n",
    "    paulis.append('I' * ilink + 'ZXZ' + 'I' * (num_links - ilink - 3))\n",
    "paulis.append('I' + 'I' * (num_links - 3) + 'IX')\n",
    "paulis.append('Z' + 'I' * (num_links - 3) + 'ZX')\n",
    "\n",
    "solved_generators.append(SparsePauliSum(paulis, np.full(len(paulis), 1. / np.sqrt(len(paulis)))))\n",
    "\n",
    "gsolved_mat = np.array(solved_generators.to_matrices(npmod=jnp))"
   ]
  },
  {
   "cell_type": "markdown",
   "id": "948b1509",
   "metadata": {},
   "source": [
    "## U(1) zero-charge and translation invariant subspace"
   ]
  },
  {
   "cell_type": "code",
   "execution_count": 7,
   "id": "1ef6f5eb",
   "metadata": {},
   "outputs": [],
   "source": [
    "lconfigs = (np.arange(2 ** num_links)[:, None] >> np.arange(num_links)[None, ::-1]) % 2\n",
    "zvals = 1 - 2 * lconfigs\n",
    "u1_charges = np.sum(zvals * np.roll(zvals, -1, axis=1) * np.array([-1, 1] * num_fermions)[None, :], axis=1)\n",
    "u1_zeros = np.nonzero(u1_charges == 0)[0]\n",
    "u1_subspace = np.array(jax.nn.one_hot(u1_zeros, 2 ** num_links).T, dtype=np.complex128)\n",
    "subspace = clean_array(translation_eigenspace(0, u1_subspace, num_spins=8, shift=2))"
   ]
  },
  {
   "cell_type": "markdown",
   "id": "837a1028",
   "metadata": {},
   "source": [
    "### Alternative manual construction of the translation eigenspace"
   ]
  },
  {
   "cell_type": "code",
   "execution_count": 8,
   "id": "9240d0cb",
   "metadata": {},
   "outputs": [],
   "source": [
    "t2_op = translation(num_links, shift=2)\n",
    "zero_indices = set(u1_zeros)\n",
    "sequences = set()\n",
    "for start in u1_zeros:\n",
    "    sequence = [start]\n",
    "    while True:\n",
    "        mapped_nonzero = np.nonzero(np.squeeze(t2_op(u1_subspace[:, u1_zeros == sequence[-1]])))[0]\n",
    "        if mapped_nonzero.shape[0] != 1:\n",
    "            raise ValueError(f'Index {idx} maps to superposition')\n",
    "        if (idx := mapped_nonzero[0]) == start:\n",
    "            break\n",
    "        if idx not in zero_indices:\n",
    "            raise ValueError(f'Index {idx} leaked out')\n",
    "        sequence.append(idx)\n",
    "    sequences.add(frozenset(sequence))\n",
    "\n",
    "subspace = np.zeros((2 ** num_links, len(sequences)), dtype=np.complex128)\n",
    "for iseq, sequence in enumerate(sorted(sequences, key=lambda x: len(x))):\n",
    "    for idx in sequence:\n",
    "        subspace[idx, iseq] = 1. / np.sqrt(len(sequence))"
   ]
  },
  {
   "cell_type": "markdown",
   "id": "22bd9b4a",
   "metadata": {},
   "source": [
    "## Projection of the Gauss-solved generators onto U(1) & T2 eigenspace"
   ]
  },
  {
   "cell_type": "code",
   "execution_count": 9,
   "id": "2f62da66",
   "metadata": {},
   "outputs": [],
   "source": [
    "mat_proj = clean_array(np.einsum('ij,kil,lm->kjm', subspace.conjugate(), gsolved_mat, subspace))"
   ]
  },
  {
   "cell_type": "markdown",
   "id": "a7fa5b10",
   "metadata": {},
   "source": [
    "## Further block diagonalization"
   ]
  },
  {
   "cell_type": "code",
   "execution_count": 10,
   "id": "b572b2cd",
   "metadata": {},
   "outputs": [],
   "source": [
    "transform, blocks = sbd_fast(mat_proj, hermitian=True, return_blocks=True)"
   ]
  },
  {
   "cell_type": "markdown",
   "id": "fcb9260e",
   "metadata": {},
   "source": [
    "## Eigenvectors of the 1-dimensional subspaces"
   ]
  },
  {
   "cell_type": "code",
   "execution_count": 19,
   "id": "9c8f7a1c",
   "metadata": {},
   "outputs": [
    {
     "name": "stdout",
     "output_type": "stream",
     "text": [
      "0 ((-0.3535533905932738+0j))|01101111> + ((0.3535533905932738+0j))|01111011> + ((0.3535533905932738+0j))|10110111> + ((-0.3535533905932738+0j))|10111101> + ((-0.3535533905932738+0j))|11011011> + ((0.3535533905932738+0j))|11011110> + ((0.3535533905932738+0j))|11101101> + ((-0.3535533905932738+0j))|11110110>\n",
      "0 ((-0.14774634740150833+0j))|00010111> + ((0.14774634740150827+0j))|00011101> + ((0.32120245458201724+0j))|00101110> + ((-0.32120245458201724+0j))|00111010> + ((0.14774634740150827+0j))|01000111> + ((-0.14774634740150833+0j))|01011100> + ((-0.14774634740150833+0j))|01110001> + ((0.14774634740150827+0j))|01110100> + ((0.32120245458201724+0j))|10001011> + ((-0.32120245458201724+0j))|10001110> + ((-0.32120245458201724+0j))|10100011> + ((0.32120245458201724+0j))|10111000> + ((-0.14774634740150833+0j))|11000101> + ((0.14774634740150827+0j))|11010001> + ((0.32120245458201724+0j))|11100010> + ((-0.32120245458201724+0j))|11101000>\n",
      "0 ((-0.3212024545820173+0j))|00010111> + ((0.3212024545820171+0j))|00011101> + ((-0.1477463474015083+0j))|00101110> + ((0.14774634740150827+0j))|00111010> + ((0.3212024545820171+0j))|01000111> + ((-0.3212024545820173+0j))|01011100> + ((-0.3212024545820173+0j))|01110001> + ((0.3212024545820171+0j))|01110100> + ((-0.1477463474015083+0j))|10001011> + ((0.14774634740150827+0j))|10001110> + ((0.14774634740150827+0j))|10100011> + ((-0.1477463474015083+0j))|10111000> + ((-0.3212024545820173+0j))|11000101> + ((0.3212024545820171+0j))|11010001> + ((-0.1477463474015083+0j))|11100010> + ((0.14774634740150827+0j))|11101000>\n",
      "0 ((-0.35355339059327384+0j))|00001001> + ((0.35355339059327373+0j))|00010010> + ((0.35355339059327373+0j))|00100001> + ((-0.35355339059327384+0j))|00100100> + ((-0.35355339059327384+0j))|01000010> + ((0.35355339059327373+0j))|01001000> + ((0.35355339059327373+0j))|10000100> + ((-0.35355339059327384+0j))|10010000>\n"
     ]
    }
   ],
   "source": [
    "for iv in range(4):\n",
    "    print_state(clean_array(subspace @ transform[:, iv:iv + 1]))"
   ]
  },
  {
   "cell_type": "code",
   "execution_count": 18,
   "id": "4c71ad52",
   "metadata": {},
   "outputs": [
    {
     "name": "stdout",
     "output_type": "stream",
     "text": [
      "0 ((1+0j))|10101010>\n"
     ]
    }
   ],
   "source": [
    "print_state(subspace[:, :1])"
   ]
  },
  {
   "cell_type": "code",
   "execution_count": null,
   "id": "b2820e93",
   "metadata": {},
   "outputs": [
    {
     "data": {
      "text/plain": [
       "(256, 40)"
      ]
     },
     "execution_count": 17,
     "metadata": {},
     "output_type": "execute_result"
    }
   ],
   "source": []
  },
  {
   "cell_type": "markdown",
   "id": "db17d3c1",
   "metadata": {},
   "source": [
    "## Computation of Lie closure"
   ]
  },
  {
   "cell_type": "code",
   "execution_count": null,
   "id": "cdde8ccc",
   "metadata": {},
   "outputs": [
    {
     "name": "stderr",
     "output_type": "stream",
     "text": [
      "INFO:fastdla._lie_closure_impl.matrix_jax:Current Lie algebra dimension: 4\n"
     ]
    },
    {
     "name": "stdout",
     "output_type": "stream",
     "text": [
      "Basis size 844; 2000th/355746 commutator [b[62], b[47]]\n"
     ]
    },
    {
     "name": "stderr",
     "output_type": "stream",
     "text": [
      "INFO:fastdla._lie_closure_impl.matrix_jax:Found 1020 new ops in 2.06s\n",
      "INFO:fastdla._lie_closure_impl.matrix_jax:Current Lie algebra dimension: 1024\n"
     ]
    },
    {
     "name": "stdout",
     "output_type": "stream",
     "text": [
      "Basis size 1087; 4000th/590241 commutator [b[88], b[84]]\n",
      "Basis size 1261; 6000th/794430 commutator [b[109], b[5]]\n",
      "Basis size 1289; 10000th/830116 commutator [b[140], b[130]]\n",
      "Basis size 1293; 12000th/835278 commutator [b[154], b[65]]\n",
      "Basis size 1293; 14000th/835278 commutator [b[166], b[139]]\n",
      "Basis size 1293; 16000th/835278 commutator [b[178], b[69]]\n"
     ]
    },
    {
     "name": "stderr",
     "output_type": "stream",
     "text": [
      "INFO:fastdla._lie_closure_impl.matrix_jax:Found 271 new ops in 6.99s\n"
     ]
    }
   ],
   "source": [
    "dla_basis = clean_array(lie_closure(blocks[-1]))"
   ]
  },
  {
   "cell_type": "code",
   "execution_count": 94,
   "id": "eacd0dae",
   "metadata": {},
   "outputs": [
    {
     "data": {
      "text/plain": [
       "(1295, 36, 36)"
      ]
     },
     "execution_count": 94,
     "metadata": {},
     "output_type": "execute_result"
    }
   ],
   "source": [
    "dla_basis.shape"
   ]
  },
  {
   "cell_type": "code",
   "execution_count": null,
   "id": "c8541f73",
   "metadata": {},
   "outputs": [],
   "source": []
  }
 ],
 "metadata": {
  "kernelspec": {
   "display_name": "Python 3 (ipykernel)",
   "language": "python",
   "name": "python3"
  }
 },
 "nbformat": 4,
 "nbformat_minor": 5
}
